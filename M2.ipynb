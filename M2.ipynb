{
 "cells": [
  {
   "cell_type": "code",
   "execution_count": 1,
   "id": "fe5652fa",
   "metadata": {},
   "outputs": [],
   "source": [
    "import os\n",
    "import numpy as np\n",
    "import matplotlib.pyplot as plt\n",
    "import tensorflow as tf\n",
    "from os import listdir\n",
    "import glob\n",
    "from PIL import Image\n",
    "import cv2\n",
    "from sklearn.model_selection import train_test_split\n",
    "from tensorflow.keras.models import Sequential\n",
    "from tensorflow.keras.preprocessing.image import ImageDataGenerator\n",
    "from tensorflow.keras.optimizers import Adam\n",
    "from tensorflow.keras.callbacks import ModelCheckpoint\n",
    "from tensorflow.keras.layers import Conv2D, BatchNormalization, Activation, MaxPool2D, Conv2DTranspose, Concatenate, Input\n",
    "from tensorflow.keras.models import Model"
   ]
  },
  {
   "cell_type": "code",
   "execution_count": 2,
   "id": "6d44568d",
   "metadata": {},
   "outputs": [],
   "source": [
    "import warnings\n",
    "warnings.filterwarnings('ignore')"
   ]
  },
  {
   "cell_type": "code",
   "execution_count": 3,
   "id": "5ec35b3f",
   "metadata": {},
   "outputs": [],
   "source": [
    "ori_images = 'datasets/Images'\n",
    "mask_images = 'datasets/Masks'"
   ]
  },
  {
   "cell_type": "code",
   "execution_count": 4,
   "id": "59394780",
   "metadata": {},
   "outputs": [],
   "source": [
    "def load_data(split=0.2):\n",
    "    images = [f for f in glob.glob(ori_images + \"/*.jpg\", recursive=True)]\n",
    "    masks = [f for f in glob.glob(mask_images + \"/*.jpg\", recursive=True)]\n",
    "\n",
    "    train_x, test_x = train_test_split(images, test_size=split, random_state=42)\n",
    "    train_y, test_y = train_test_split(masks, test_size=split, random_state=42)\n",
    "\n",
    "    return (train_x, train_y), (test_x, test_y)"
   ]
  },
  {
   "cell_type": "code",
   "execution_count": 5,
   "id": "b1a1c238",
   "metadata": {},
   "outputs": [],
   "source": [
    "def read_image(path):\n",
    "    path = path.decode()\n",
    "    x = cv2.imread(path, cv2.IMREAD_COLOR)  ## (H, W, 3)\n",
    "    x = cv2.resize(x, (128, 128))\n",
    "    x = x/255.0\n",
    "    x = x.astype(np.float32)\n",
    "    return x "
   ]
  },
  {
   "cell_type": "code",
   "execution_count": 6,
   "id": "17689044",
   "metadata": {},
   "outputs": [],
   "source": [
    "def read_mask(path):\n",
    "    path = path.decode()\n",
    "    x = cv2.imread(path, cv2.IMREAD_GRAYSCALE)  \n",
    "    x = cv2.resize(x, (128, 128))\n",
    "    x = x/255.0\n",
    "    x = x.astype(np.float32)                    \n",
    "    x = np.expand_dims(x, axis=-1)              \n",
    "    return x"
   ]
  },
  {
   "cell_type": "code",
   "execution_count": 7,
   "id": "14df6bae",
   "metadata": {},
   "outputs": [],
   "source": [
    "def tf_parse(x, y):\n",
    "    def _parse(x, y):\n",
    "        x = read_image(x)\n",
    "        y = read_mask(y)\n",
    "        return x, y\n",
    "\n",
    "    x, y = tf.numpy_function(_parse, [x, y], [tf.float32, tf.float32])\n",
    "    x.set_shape([128, 128, 3])\n",
    "    y.set_shape([128, 128, 1])\n",
    "    return x, y\n",
    "\n",
    "def tf_dataset(X, Y, batch):\n",
    "    dataset = tf.data.Dataset.from_tensor_slices((X, Y))\n",
    "    dataset = dataset.map(tf_parse)\n",
    "    dataset = dataset.batch(batch)\n",
    "    dataset = dataset.prefetch(10)\n",
    "    return dataset"
   ]
  },
  {
   "cell_type": "code",
   "execution_count": 8,
   "id": "b39579bb",
   "metadata": {},
   "outputs": [
    {
     "name": "stdout",
     "output_type": "stream",
     "text": [
      "Train: 336 - 336\n",
      "Test: 84 - 84\n"
     ]
    }
   ],
   "source": [
    "(train_x, train_y), (test_x, test_y) = load_data()\n",
    "\n",
    "print(f\"Train: {len(train_x)} - {len(train_y)}\")\n",
    "print(f\"Test: {len(test_x)} - {len(test_y)}\")"
   ]
  },
  {
   "cell_type": "code",
   "execution_count": 9,
   "id": "01485156",
   "metadata": {},
   "outputs": [
    {
     "name": "stdout",
     "output_type": "stream",
     "text": [
      "WARNING:tensorflow:From C:\\Users\\steph\\anaconda3\\lib\\site-packages\\tensorflow\\python\\autograph\\pyct\\static_analysis\\liveness.py:83: Analyzer.lamba_check (from tensorflow.python.autograph.pyct.static_analysis.liveness) is deprecated and will be removed after 2023-09-23.\n",
      "Instructions for updating:\n",
      "Lambda fuctions will be no more assumed to be used in the statement where they are used, or at least in the same block. https://github.com/tensorflow/tensorflow/issues/56089\n"
     ]
    }
   ],
   "source": [
    "batch = 4\n",
    "train_dataset = tf_dataset(train_x, train_y, batch)\n",
    "valid_dataset = tf_dataset(test_x, test_y, batch)"
   ]
  },
  {
   "cell_type": "code",
   "execution_count": 10,
   "id": "076f3346",
   "metadata": {},
   "outputs": [],
   "source": [
    "def conv_block(inputs, num_filters):\n",
    "    x = Conv2D(num_filters, 3, padding=\"same\")(inputs)\n",
    "    x = Activation(\"relu\")(x)\n",
    "\n",
    "    x = Conv2D(num_filters, 3, padding=\"same\")(x)\n",
    "    x = Activation(\"relu\")(x)\n",
    "\n",
    "    return x\n",
    "\n",
    "def encoder_block(inputs, num_filters):\n",
    "    x = conv_block(inputs, num_filters)\n",
    "    p = MaxPool2D((2, 2))(x)\n",
    "    return x, p\n",
    "\n",
    "def decoder_block(inputs, skip_features, num_filters):\n",
    "    x = Conv2DTranspose(num_filters, (2, 2), strides=2, padding=\"same\")(inputs)\n",
    "    x = Concatenate()([x, skip_features])\n",
    "    x = conv_block(x, num_filters)\n",
    "    return x\n",
    "\n",
    "def build_unet(input_shape):\n",
    "    inputs = Input(input_shape)\n",
    "\n",
    "    \"\"\" Encoder \"\"\"\n",
    "    s1, p1 = encoder_block(inputs, 64)\n",
    "    s2, p2 = encoder_block(p1, 128)\n",
    "\n",
    "    \"\"\" Bridge \"\"\"\n",
    "    b1 = conv_block(p2, 1024)\n",
    "\n",
    "    \"\"\" Decoder \"\"\"\n",
    "    d1 = decoder_block(b1, s2, 128)\n",
    "    d2 = decoder_block(d1, s1, 64)\n",
    "\n",
    "    \"\"\" Outputs \"\"\"\n",
    "    outputs = Conv2D(1, 1, padding=\"same\", activation=\"sigmoid\")(d2)\n",
    "\n",
    "    \"\"\" Model \"\"\"\n",
    "    model = Model(inputs, outputs)\n",
    "    return model"
   ]
  },
  {
   "cell_type": "code",
   "execution_count": 11,
   "id": "9b4cef6b",
   "metadata": {
    "scrolled": true
   },
   "outputs": [
    {
     "name": "stdout",
     "output_type": "stream",
     "text": [
      "Model: \"model\"\n",
      "__________________________________________________________________________________________________\n",
      " Layer (type)                   Output Shape         Param #     Connected to                     \n",
      "==================================================================================================\n",
      " input_1 (InputLayer)           [(None, 128, 128, 3  0           []                               \n",
      "                                )]                                                                \n",
      "                                                                                                  \n",
      " conv2d (Conv2D)                (None, 128, 128, 64  1792        ['input_1[0][0]']                \n",
      "                                )                                                                 \n",
      "                                                                                                  \n",
      " activation (Activation)        (None, 128, 128, 64  0           ['conv2d[0][0]']                 \n",
      "                                )                                                                 \n",
      "                                                                                                  \n",
      " conv2d_1 (Conv2D)              (None, 128, 128, 64  36928       ['activation[0][0]']             \n",
      "                                )                                                                 \n",
      "                                                                                                  \n",
      " activation_1 (Activation)      (None, 128, 128, 64  0           ['conv2d_1[0][0]']               \n",
      "                                )                                                                 \n",
      "                                                                                                  \n",
      " max_pooling2d (MaxPooling2D)   (None, 64, 64, 64)   0           ['activation_1[0][0]']           \n",
      "                                                                                                  \n",
      " conv2d_2 (Conv2D)              (None, 64, 64, 128)  73856       ['max_pooling2d[0][0]']          \n",
      "                                                                                                  \n",
      " activation_2 (Activation)      (None, 64, 64, 128)  0           ['conv2d_2[0][0]']               \n",
      "                                                                                                  \n",
      " conv2d_3 (Conv2D)              (None, 64, 64, 128)  147584      ['activation_2[0][0]']           \n",
      "                                                                                                  \n",
      " activation_3 (Activation)      (None, 64, 64, 128)  0           ['conv2d_3[0][0]']               \n",
      "                                                                                                  \n",
      " max_pooling2d_1 (MaxPooling2D)  (None, 32, 32, 128)  0          ['activation_3[0][0]']           \n",
      "                                                                                                  \n",
      " conv2d_4 (Conv2D)              (None, 32, 32, 1024  1180672     ['max_pooling2d_1[0][0]']        \n",
      "                                )                                                                 \n",
      "                                                                                                  \n",
      " activation_4 (Activation)      (None, 32, 32, 1024  0           ['conv2d_4[0][0]']               \n",
      "                                )                                                                 \n",
      "                                                                                                  \n",
      " conv2d_5 (Conv2D)              (None, 32, 32, 1024  9438208     ['activation_4[0][0]']           \n",
      "                                )                                                                 \n",
      "                                                                                                  \n",
      " activation_5 (Activation)      (None, 32, 32, 1024  0           ['conv2d_5[0][0]']               \n",
      "                                )                                                                 \n",
      "                                                                                                  \n",
      " conv2d_transpose (Conv2DTransp  (None, 64, 64, 128)  524416     ['activation_5[0][0]']           \n",
      " ose)                                                                                             \n",
      "                                                                                                  \n",
      " concatenate (Concatenate)      (None, 64, 64, 256)  0           ['conv2d_transpose[0][0]',       \n",
      "                                                                  'activation_3[0][0]']           \n",
      "                                                                                                  \n",
      " conv2d_6 (Conv2D)              (None, 64, 64, 128)  295040      ['concatenate[0][0]']            \n",
      "                                                                                                  \n",
      " activation_6 (Activation)      (None, 64, 64, 128)  0           ['conv2d_6[0][0]']               \n",
      "                                                                                                  \n",
      " conv2d_7 (Conv2D)              (None, 64, 64, 128)  147584      ['activation_6[0][0]']           \n",
      "                                                                                                  \n",
      " activation_7 (Activation)      (None, 64, 64, 128)  0           ['conv2d_7[0][0]']               \n",
      "                                                                                                  \n",
      " conv2d_transpose_1 (Conv2DTran  (None, 128, 128, 64  32832      ['activation_7[0][0]']           \n",
      " spose)                         )                                                                 \n",
      "                                                                                                  \n",
      " concatenate_1 (Concatenate)    (None, 128, 128, 12  0           ['conv2d_transpose_1[0][0]',     \n",
      "                                8)                                'activation_1[0][0]']           \n",
      "                                                                                                  \n",
      " conv2d_8 (Conv2D)              (None, 128, 128, 64  73792       ['concatenate_1[0][0]']          \n",
      "                                )                                                                 \n",
      "                                                                                                  \n",
      " activation_8 (Activation)      (None, 128, 128, 64  0           ['conv2d_8[0][0]']               \n",
      "                                )                                                                 \n",
      "                                                                                                  \n",
      " conv2d_9 (Conv2D)              (None, 128, 128, 64  36928       ['activation_8[0][0]']           \n",
      "                                )                                                                 \n",
      "                                                                                                  \n",
      " activation_9 (Activation)      (None, 128, 128, 64  0           ['conv2d_9[0][0]']               \n",
      "                                )                                                                 \n",
      "                                                                                                  \n",
      " conv2d_10 (Conv2D)             (None, 128, 128, 1)  65          ['activation_9[0][0]']           \n",
      "                                                                                                  \n",
      "==================================================================================================\n",
      "Total params: 11,989,697\n",
      "Trainable params: 11,989,697\n",
      "Non-trainable params: 0\n",
      "__________________________________________________________________________________________________\n"
     ]
    }
   ],
   "source": [
    "model = build_unet((128, 128, 3))\n",
    "model.compile(loss=\"binary_crossentropy\", optimizer=Adam(), metrics=['accuracy'])\n",
    "model.summary()"
   ]
  },
  {
   "cell_type": "code",
   "execution_count": 12,
   "id": "c29ddada",
   "metadata": {},
   "outputs": [],
   "source": [
    "model_path = 'files/model.h5'\n",
    "callbacks = [\n",
    "        ModelCheckpoint(model_path, verbose=1, save_best_only=True)\n",
    "    ]"
   ]
  },
  {
   "cell_type": "code",
   "execution_count": 13,
   "id": "aa6e75c8",
   "metadata": {},
   "outputs": [],
   "source": [
    "batch_size = 32\n",
    "num_epoch = 20"
   ]
  },
  {
   "cell_type": "code",
   "execution_count": 14,
   "id": "b24ac3f1",
   "metadata": {
    "scrolled": true
   },
   "outputs": [
    {
     "name": "stdout",
     "output_type": "stream",
     "text": [
      "Epoch 1/20\n",
      "10/10 [==============================] - ETA: 0s - loss: 0.5410 - accuracy: 0.3966\n",
      "Epoch 1: val_loss improved from inf to 0.44599, saving model to files\\model.h5\n",
      "10/10 [==============================] - 70s 6s/step - loss: 0.5410 - accuracy: 0.3966 - val_loss: 0.4460 - val_accuracy: 0.4241\n",
      "Epoch 2/20\n",
      "10/10 [==============================] - ETA: 0s - loss: 0.4060 - accuracy: 0.4451\n",
      "Epoch 2: val_loss improved from 0.44599 to 0.39539, saving model to files\\model.h5\n",
      "10/10 [==============================] - 75s 7s/step - loss: 0.4060 - accuracy: 0.4451 - val_loss: 0.3954 - val_accuracy: 0.4241\n",
      "Epoch 3/20\n",
      "10/10 [==============================] - ETA: 0s - loss: 0.3576 - accuracy: 0.4281\n",
      "Epoch 3: val_loss improved from 0.39539 to 0.32551, saving model to files\\model.h5\n",
      "10/10 [==============================] - 72s 7s/step - loss: 0.3576 - accuracy: 0.4281 - val_loss: 0.3255 - val_accuracy: 0.4241\n",
      "Epoch 4/20\n",
      "10/10 [==============================] - ETA: 0s - loss: 0.3055 - accuracy: 0.4381\n",
      "Epoch 4: val_loss improved from 0.32551 to 0.32337, saving model to files\\model.h5\n",
      "10/10 [==============================] - 70s 7s/step - loss: 0.3055 - accuracy: 0.4381 - val_loss: 0.3234 - val_accuracy: 0.4241\n",
      "Epoch 5/20\n",
      "10/10 [==============================] - ETA: 0s - loss: 0.3050 - accuracy: 0.4477\n",
      "Epoch 5: val_loss improved from 0.32337 to 0.31720, saving model to files\\model.h5\n",
      "10/10 [==============================] - 65s 7s/step - loss: 0.3050 - accuracy: 0.4477 - val_loss: 0.3172 - val_accuracy: 0.4241\n",
      "Epoch 6/20\n",
      "10/10 [==============================] - ETA: 0s - loss: 0.2853 - accuracy: 0.4837\n",
      "Epoch 6: val_loss improved from 0.31720 to 0.31661, saving model to files\\model.h5\n",
      "10/10 [==============================] - 72s 7s/step - loss: 0.2853 - accuracy: 0.4837 - val_loss: 0.3166 - val_accuracy: 0.4241\n",
      "Epoch 7/20\n",
      "10/10 [==============================] - ETA: 0s - loss: 0.2907 - accuracy: 0.4744\n",
      "Epoch 7: val_loss improved from 0.31661 to 0.31628, saving model to files\\model.h5\n",
      "10/10 [==============================] - 74s 7s/step - loss: 0.2907 - accuracy: 0.4744 - val_loss: 0.3163 - val_accuracy: 0.4241\n",
      "Epoch 8/20\n",
      "10/10 [==============================] - ETA: 0s - loss: 0.2999 - accuracy: 0.4810\n",
      "Epoch 8: val_loss improved from 0.31628 to 0.31586, saving model to files\\model.h5\n",
      "10/10 [==============================] - 74s 7s/step - loss: 0.2999 - accuracy: 0.4810 - val_loss: 0.3159 - val_accuracy: 0.4241\n",
      "Epoch 9/20\n",
      "10/10 [==============================] - ETA: 0s - loss: 0.3109 - accuracy: 0.4346\n",
      "Epoch 9: val_loss improved from 0.31586 to 0.31484, saving model to files\\model.h5\n",
      "10/10 [==============================] - 63s 6s/step - loss: 0.3109 - accuracy: 0.4346 - val_loss: 0.3148 - val_accuracy: 0.4241\n",
      "Epoch 10/20\n",
      "10/10 [==============================] - ETA: 0s - loss: 0.2983 - accuracy: 0.4464\n",
      "Epoch 10: val_loss did not improve from 0.31484\n",
      "10/10 [==============================] - 65s 6s/step - loss: 0.2983 - accuracy: 0.4464 - val_loss: 0.3161 - val_accuracy: 0.4241\n",
      "Epoch 11/20\n",
      "10/10 [==============================] - ETA: 0s - loss: 0.3067 - accuracy: 0.4347\n",
      "Epoch 11: val_loss improved from 0.31484 to 0.31311, saving model to files\\model.h5\n",
      "10/10 [==============================] - 60s 6s/step - loss: 0.3067 - accuracy: 0.4347 - val_loss: 0.3131 - val_accuracy: 0.4241\n",
      "Epoch 12/20\n",
      "10/10 [==============================] - ETA: 0s - loss: 0.3055 - accuracy: 0.4373\n",
      "Epoch 12: val_loss did not improve from 0.31311\n",
      "10/10 [==============================] - 62s 6s/step - loss: 0.3055 - accuracy: 0.4373 - val_loss: 0.3135 - val_accuracy: 0.4241\n",
      "Epoch 13/20\n",
      "10/10 [==============================] - ETA: 0s - loss: 0.3011 - accuracy: 0.4392\n",
      "Epoch 13: val_loss improved from 0.31311 to 0.31154, saving model to files\\model.h5\n",
      "10/10 [==============================] - 56s 6s/step - loss: 0.3011 - accuracy: 0.4392 - val_loss: 0.3115 - val_accuracy: 0.4241\n",
      "Epoch 14/20\n",
      "10/10 [==============================] - ETA: 0s - loss: 0.2905 - accuracy: 0.4615\n",
      "Epoch 14: val_loss did not improve from 0.31154\n",
      "10/10 [==============================] - 62s 6s/step - loss: 0.2905 - accuracy: 0.4615 - val_loss: 0.3122 - val_accuracy: 0.4241\n",
      "Epoch 15/20\n",
      "10/10 [==============================] - ETA: 0s - loss: 0.2795 - accuracy: 0.4786\n",
      "Epoch 15: val_loss improved from 0.31154 to 0.31112, saving model to files\\model.h5\n",
      "10/10 [==============================] - 72s 7s/step - loss: 0.2795 - accuracy: 0.4786 - val_loss: 0.3111 - val_accuracy: 0.4241\n",
      "Epoch 16/20\n",
      "10/10 [==============================] - ETA: 0s - loss: 0.3114 - accuracy: 0.4470\n",
      "Epoch 17: val_loss did not improve from 0.31112\n",
      "10/10 [==============================] - 68s 7s/step - loss: 0.3114 - accuracy: 0.4470 - val_loss: 0.3127 - val_accuracy: 0.4241\n",
      "Epoch 18/20\n",
      "10/10 [==============================] - ETA: 0s - loss: 0.3085 - accuracy: 0.4432\n",
      "Epoch 18: val_loss did not improve from 0.31112\n",
      "10/10 [==============================] - 65s 6s/step - loss: 0.3085 - accuracy: 0.4432 - val_loss: 0.3155 - val_accuracy: 0.4241\n",
      "Epoch 19/20\n",
      "10/10 [==============================] - ETA: 0s - loss: 0.2898 - accuracy: 0.4530\n",
      "Epoch 19: val_loss did not improve from 0.31112\n",
      "10/10 [==============================] - 66s 7s/step - loss: 0.2898 - accuracy: 0.4530 - val_loss: 0.3141 - val_accuracy: 0.4241\n",
      "Epoch 20/20\n",
      "10/10 [==============================] - ETA: 0s - loss: 0.3145 - accuracy: 0.4208\n",
      "Epoch 20: val_loss improved from 0.31112 to 0.31050, saving model to files\\model.h5\n",
      "10/10 [==============================] - 63s 6s/step - loss: 0.3145 - accuracy: 0.4208 - val_loss: 0.3105 - val_accuracy: 0.4241\n"
     ]
    },
    {
     "data": {
      "text/plain": [
       "<keras.callbacks.History at 0x207bb36a970>"
      ]
     },
     "execution_count": 14,
     "metadata": {},
     "output_type": "execute_result"
    }
   ],
   "source": [
    "model.fit(\n",
    "    train_dataset.repeat(),\n",
    "    epochs=num_epoch,\n",
    "    validation_data=valid_dataset.repeat(),\n",
    "    steps_per_epoch=len(train_x)//batch_size,\n",
    "    validation_steps=len(test_x)//batch_size,\n",
    "    callbacks=callbacks\n",
    ")"
   ]
  },
  {
   "cell_type": "code",
   "execution_count": 15,
   "id": "ba9156fc",
   "metadata": {},
   "outputs": [
    {
     "data": {
      "image/png": "[encoded data removed]",
      "text/plain": [
       "<Figure size 640x480 with 1 Axes>"
      ]
     },
     "metadata": {},
     "output_type": "display_data"
    },
    {
     "data": {
      "image/png": "[encoded data removed]",
      "text/plain": [
       "<Figure size 640x480 with 1 Axes>"
      ]
     },
     "metadata": {},
     "output_type": "display_data"
    }
   ],
   "source": [
    "def graph():\n",
    "    #Plot training & validation accuracy values\n",
    "    plt.plot(model.history.history['accuracy'])\n",
    "    plt.plot(model.history.history['val_accuracy'])\n",
    "    plt.title('Model accuracy')\n",
    "    plt.ylabel('Accuracy')\n",
    "    plt.xlabel('Epoch')\n",
    "    plt.legend(['Train', 'Test'], loc='upper left')\n",
    "    plt.show()\n",
    "\n",
    "    # Plot training & validation loss values\n",
    "    plt.plot(model.history.history['loss'])\n",
    "    plt.plot(model.history.history['val_loss'])\n",
    "    plt.title('Model loss')\n",
    "    plt.ylabel('Loss')\n",
    "    plt.xlabel('Epoch')\n",
    "    plt.legend(['Train', 'Test'], loc='upper left')\n",
    "    plt.show()\n",
    "\n",
    "graph()"
   ]
  },
  {
   "cell_type": "code",
   "execution_count": null,
   "id": "3569da05",
   "metadata": {},
   "outputs": [],
   "source": []
  },
  {
   "cell_type": "code",
   "execution_count": null,
   "id": "2ee63407",
   "metadata": {},
   "outputs": [],
   "source": []
  },
  {
   "cell_type": "code",
   "execution_count": null,
   "id": "0f32ebd2",
   "metadata": {},
   "outputs": [],
   "source": []
  },
  {
   "cell_type": "code",
   "execution_count": null,
   "id": "aebbf2bf",
   "metadata": {},
   "outputs": [],
   "source": []
  }
 ],
 "metadata": {
  "kernelspec": {
   "display_name": "Python 3 (ipykernel)",
   "language": "python",
   "name": "python3"
  },
  "language_info": {
   "codemirror_mode": {
    "name": "ipython",
    "version": 3
   },
   "file_extension": ".py",
   "mimetype": "text/x-python",
   "name": "python",
   "nbconvert_exporter": "python",
   "pygments_lexer": "ipython3",
   "version": "3.9.13"
  }
 },
 "nbformat": 4,
 "nbformat_minor": 5
}
